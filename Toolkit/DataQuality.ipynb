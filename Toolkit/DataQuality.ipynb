{
 "cells": [
  {
   "cell_type": "markdown",
   "metadata": {},
   "source": [
    "# Import Data"
   ]
  },
  {
   "cell_type": "code",
   "execution_count": null,
   "metadata": {},
   "outputs": [],
   "source": [
    "#invite people for the Kaggle party\n",
    "import pandas as pd\n",
    "import matplotlib.pyplot as plt\n",
    "import warnings\n",
    "warnings.filterwarnings('ignore')\n",
    "%matplotlib inline\n",
    "\n",
    "# Set the option to display maximum rows to a high number\n",
    "pd.set_option('display.max_rows', 300)\n",
    "pd.set_option('display.max_columns', 300)\n",
    "\n",
    "\n",
    "#bring in the six packs\n",
    "df = pd.read_csv('./Dataset/Titanic.csv')\n",
    "\n",
    "# Assuming df is your DataFrame\n",
    "import DataExplorationToolkit as dtl\n",
    "feature_selector = dtl.FeatureSelector()\n",
    "visualizer=dtl.Visualization()\n"
   ]
  }
 ],
 "metadata": {
  "language_info": {
   "name": "python"
  }
 },
 "nbformat": 4,
 "nbformat_minor": 2
}
